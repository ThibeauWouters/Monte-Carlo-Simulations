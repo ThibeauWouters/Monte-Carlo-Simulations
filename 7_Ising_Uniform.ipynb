{
 "cells": [
  {
   "cell_type": "markdown",
   "metadata": {},
   "source": [
    "# 7 - Ising Model: Uniform Sampling"
   ]
  },
  {
   "cell_type": "markdown",
   "metadata": {},
   "source": [
    "##### Imports:"
   ]
  },
  {
   "cell_type": "code",
   "execution_count": 3,
   "metadata": {},
   "outputs": [],
   "source": [
    "import numpy as np\n",
    "import random\n",
    "import matplotlib.pyplot as plt\n",
    "import scipy.integrate as integrate"
   ]
  },
  {
   "cell_type": "markdown",
   "metadata": {},
   "source": [
    "##### Functions:"
   ]
  },
  {
   "cell_type": "code",
   "execution_count": 2,
   "metadata": {},
   "outputs": [],
   "source": [
    "def random_spins(N):\n",
    "    '''Generate a N x N random lattice of spins, represented as a vector of length N^2.'''\n",
    "    spins = [-1, 1]\n",
    "    \n",
    "    lattice = []\n",
    "    for i in range(N**2):\n",
    "        lattice.append(random.choice(spins))\n",
    "    \n",
    "    return lattice"
   ]
  },
  {
   "cell_type": "code",
   "execution_count": 1,
   "metadata": {},
   "outputs": [],
   "source": [
    "def compute_energy(lattice):\n",
    "    '''Given a lattice, computes the energy according to Hamiltonian for the Ising model.'''\n",
    "    E = 0\n",
    "    N = int(np.sqrt(len(lattice))) # obtain N, given the lattice\n",
    "    \n",
    "    for i in range(len(lattice)):\n",
    "        s = lattice[i]\n",
    "        E += -s*lattice[(i + N + N**2)%N**2]\n",
    "        E += -s*lattice[(i -  N + N**2)%N**2]\n",
    "        \n",
    "        E += -s*lattice[(i + 1 + N**2)%N**2]\n",
    "        E += -s*lattice[(i -  1 + N**2)%N**2]\n",
    "    return E/2"
   ]
  },
  {
   "cell_type": "code",
   "execution_count": 32,
   "metadata": {},
   "outputs": [],
   "source": [
    "def ising_uniform_sampling(N):\n",
    "    lattice = random_spins(N)\n",
    "    e = compute_energy(lattice)/(2*N**2)    \n",
    "    return e"
   ]
  },
  {
   "cell_type": "markdown",
   "metadata": {},
   "source": [
    "We check a function:"
   ]
  },
  {
   "cell_type": "code",
   "execution_count": 4,
   "metadata": {},
   "outputs": [
    {
     "data": {
      "text/plain": [
       "-18.0"
      ]
     },
     "execution_count": 4,
     "metadata": {},
     "output_type": "execute_result"
    }
   ],
   "source": [
    "# Check that the 'compute_energy' function gives the correct result for the ground state.\n",
    "ground_state = [1, 1, 1, 1, 1, 1, 1, 1, 1] # ground state for N = 3\n",
    "compute_energy(ground_state)"
   ]
  },
  {
   "cell_type": "markdown",
   "metadata": {},
   "source": [
    "## 7.1 - Histogram of energies per bond"
   ]
  },
  {
   "cell_type": "code",
   "execution_count": 39,
   "metadata": {},
   "outputs": [],
   "source": [
    "N = 4; nreps = 10**4"
   ]
  },
  {
   "cell_type": "markdown",
   "metadata": {},
   "source": [
    "The following cell takes a bit of time to run."
   ]
  },
  {
   "cell_type": "code",
   "execution_count": 40,
   "metadata": {},
   "outputs": [],
   "source": [
    "e_list = []\n",
    "\n",
    "for i in range(nreps):\n",
    "    e_list.append(ising_uniform_sampling(N))"
   ]
  },
  {
   "cell_type": "code",
   "execution_count": 41,
   "metadata": {
    "scrolled": true
   },
   "outputs": [
    {
     "data": {
      "image/png": "[encoded data removed]",
      "text/plain": [
       "<Figure size 432x288 with 1 Axes>"
      ]
     },
     "metadata": {
      "needs_background": "light"
     },
     "output_type": "display_data"
    }
   ],
   "source": [
    "plt.hist(e_list, density = True, bins = 100)\n",
    "plt.show()"
   ]
  },
  {
   "cell_type": "markdown",
   "metadata": {},
   "source": [
    "## 7.2 - Hit and miss method"
   ]
  },
  {
   "cell_type": "code",
   "execution_count": 58,
   "metadata": {},
   "outputs": [],
   "source": [
    "T1 = 10**5; T2 = 10**3; T3 = 10**2; T4 = 10; "
   ]
  },
  {
   "cell_type": "code",
   "execution_count": 59,
   "metadata": {},
   "outputs": [],
   "source": [
    "def hit_and_miss(N, T):\n",
    "    beta = 1/T # work in k_b = 1\n",
    "    E0 = -2*N**2\n",
    "    \n",
    "    lattice = random_spins(N)\n",
    "    E = compute_energy(lattice)\n",
    "    \n",
    "    r = random.uniform(0, 1)\n",
    "    if r <= np.exp(-beta*(E - E0)):\n",
    "        return E # hit\n",
    "    else:\n",
    "        return 'miss'"
   ]
  },
  {
   "cell_type": "code",
   "execution_count": 60,
   "metadata": {},
   "outputs": [],
   "source": [
    "def hit_and_miss_algorithm(N, T, nreps):\n",
    "    e_list = []\n",
    "    \n",
    "    for i in range(nreps):\n",
    "        e = hit_and_miss(N, T)\n",
    "    \n",
    "        if e != 'miss':\n",
    "            e_list.append(e)\n",
    "    \n",
    "    return (e_list, len(e_list)/nreps)"
   ]
  },
  {
   "cell_type": "code",
   "execution_count": 66,
   "metadata": {},
   "outputs": [],
   "source": [
    "N = 4; nreps = 10**4"
   ]
  },
  {
   "cell_type": "code",
   "execution_count": 67,
   "metadata": {},
   "outputs": [],
   "source": [
    "fracs = []\n",
    "for T in [T1, T2, T3, T4]:\n",
    "    fracs.append(hit_and_miss_algorithm(N, T, nreps)[1])"
   ]
  },
  {
   "cell_type": "code",
   "execution_count": 68,
   "metadata": {},
   "outputs": [
    {
     "data": {
      "text/plain": [
       "[0.9994, 0.9709, 0.7226, 0.0475]"
      ]
     },
     "execution_count": 68,
     "metadata": {},
     "output_type": "execute_result"
    }
   ],
   "source": [
    "fracs"
   ]
  }
 ],
 "metadata": {
  "kernelspec": {
   "display_name": "Python 3",
   "language": "python",
   "name": "python3"
  },
  "language_info": {
   "codemirror_mode": {
    "name": "ipython",
    "version": 3
   },
   "file_extension": ".py",
   "mimetype": "text/x-python",
   "name": "python",
   "nbconvert_exporter": "python",
   "pygments_lexer": "ipython3",
   "version": "3.6.8"
  }
 },
 "nbformat": 4,
 "nbformat_minor": 2
}
