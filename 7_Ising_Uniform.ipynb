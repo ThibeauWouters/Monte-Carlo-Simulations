{
 "cells": [
  {
   "cell_type": "markdown",
   "metadata": {},
   "source": [
    "# 7 - Ising Model: Uniform Sampling"
   ]
  },
  {
   "cell_type": "markdown",
   "metadata": {},
   "source": [
    "##### Imports:"
   ]
  },
  {
   "cell_type": "code",
   "execution_count": 1,
   "metadata": {},
   "outputs": [],
   "source": [
    "import numpy as np\n",
    "import random\n",
    "import matplotlib.pyplot as plt\n",
    "import scipy.integrate as integrate"
   ]
  },
  {
   "cell_type": "markdown",
   "metadata": {},
   "source": [
    "I will create a dataframe later on: so I'll import pandas."
   ]
  },
  {
   "cell_type": "code",
   "execution_count": 88,
   "metadata": {},
   "outputs": [],
   "source": [
    "import pandas as pd"
   ]
  },
  {
   "cell_type": "markdown",
   "metadata": {},
   "source": [
    "##### Configure matplotlib settings"
   ]
  },
  {
   "cell_type": "code",
   "execution_count": 42,
   "metadata": {},
   "outputs": [],
   "source": [
    "plt.style.use('ggplot')\n",
    "plt.rcParams.update(\n",
    "    {\"text.usetex\": True,\n",
    "     'font.serif': 'Modern Roman',\n",
    "     \"figure.figsize\": (10, 4),\n",
    "    \"axes.titlesize\" : 26,\n",
    "    \"axes.labelsize\" : 28,\n",
    "    \"lines.linewidth\": 3,\n",
    "    \"lines.markersize\" : 10,\n",
    "    \"xtick.labelsize\" : 24,\n",
    "    \"ytick.labelsize\" : 24})"
   ]
  },
  {
   "cell_type": "markdown",
   "metadata": {},
   "source": [
    "##### Functions:"
   ]
  },
  {
   "cell_type": "code",
   "execution_count": 2,
   "metadata": {},
   "outputs": [],
   "source": [
    "def random_spins(N):\n",
    "    '''Generate a N x N random lattice of spins, represented as a vector of length N^2.'''\n",
    "    spins = [-1, 1]\n",
    "    \n",
    "    lattice = []\n",
    "    for i in range(N**2):\n",
    "        lattice.append(random.choice(spins))\n",
    "    \n",
    "    return lattice"
   ]
  },
  {
   "cell_type": "code",
   "execution_count": 3,
   "metadata": {},
   "outputs": [],
   "source": [
    "def compute_energy(lattice):\n",
    "    '''Given a lattice, computes the energy according to Hamiltonian for the Ising model.'''\n",
    "    E = 0\n",
    "    N = int(np.sqrt(len(lattice))) # obtain N, given the lattice\n",
    "    \n",
    "    for i in range(len(lattice)):\n",
    "        s = lattice[i]\n",
    "        E += -s*lattice[(i + N + N**2)%N**2]\n",
    "        E += -s*lattice[(i -  N + N**2)%N**2]\n",
    "        \n",
    "        E += -s*lattice[(i + 1 + N**2)%N**2]\n",
    "        E += -s*lattice[(i -  1 + N**2)%N**2]\n",
    "    return E/2"
   ]
  },
  {
   "cell_type": "code",
   "execution_count": 108,
   "metadata": {},
   "outputs": [],
   "source": [
    "def ising_uniform_sampling(N):\n",
    "    '''Returns a lattice of uniformly generated spins and computes the energies per bond of a lattice, using uniform sampling.'''\n",
    "    lattice = random_spins(N)\n",
    "    e = compute_energy(lattice)/(2*N**2) \n",
    "    lattice.append(e)\n",
    "    return lattice"
   ]
  },
  {
   "cell_type": "code",
   "execution_count": 117,
   "metadata": {},
   "outputs": [],
   "source": [
    "def hit_and_miss(N, T):\n",
    "    '''Applies the hit and miss algorithm a single time. If a hit, returns the generated lattice, and its energy. Note:  k_b = 1'''\n",
    "    beta = 1/T\n",
    "    E0 = -2*N**2\n",
    "    \n",
    "    lattice = random_spins(N)\n",
    "    E = compute_energy(lattice)\n",
    "    r = random.uniform(0, 1)\n",
    "    \n",
    "    if r <= np.exp(-beta*(E - E0)):\n",
    "        lattice.append(E/(2*N**2)) # work with e instead of E\n",
    "        return lattice # hit\n",
    "   \n",
    "    else:\n",
    "        return 'miss'"
   ]
  },
  {
   "cell_type": "code",
   "execution_count": 118,
   "metadata": {},
   "outputs": [],
   "source": [
    "def hit_and_miss_algorithm(N, T, nreps):\n",
    "    '''Runs the hit and miss nreps times. Returns the hits = lattices and their energy, and the fraction of hits (useful for exercise 7.2)'''\n",
    "    lattice_list = []\n",
    "    \n",
    "    for i in range(nreps):\n",
    "        lattice = hit_and_miss(N, T) # result from hit_and_miss is lattice configuration + E\n",
    "    \n",
    "        if lattice != 'miss':\n",
    "            lattice_list.append(lattice)\n",
    "    \n",
    "    return (lattice_list, len(lattice_list)/nreps)"
   ]
  },
  {
   "cell_type": "code",
   "execution_count": 209,
   "metadata": {},
   "outputs": [],
   "source": [
    "def get_weights(energies, T):\n",
    "    weights = []\n",
    "    for E in energies:\n",
    "        weights.append(np.exp(-E/T))\n",
    "        \n",
    "    return weights"
   ]
  },
  {
   "cell_type": "markdown",
   "metadata": {},
   "source": [
    "We check that the function calculates energies correctly: check this for the ground state: should be $E_0 = -2N^2$."
   ]
  },
  {
   "cell_type": "code",
   "execution_count": 5,
   "metadata": {},
   "outputs": [
    {
     "data": {
      "text/plain": [
       "-18.0"
      ]
     },
     "execution_count": 5,
     "metadata": {},
     "output_type": "execute_result"
    }
   ],
   "source": [
    "# Check that the 'compute_energy' function gives the correct result for the ground state.\n",
    "\n",
    "ground_state = [1, 1, 1, 1, 1, 1, 1, 1, 1] # ground state for N = 3\n",
    "compute_energy(ground_state)"
   ]
  },
  {
   "cell_type": "markdown",
   "metadata": {},
   "source": [
    " ## 7.0 : e = 1? TEST: DELETE THIS"
   ]
  },
  {
   "cell_type": "code",
   "execution_count": 119,
   "metadata": {},
   "outputs": [],
   "source": [
    "# N = 3:\n",
    "lattice = [1, -1, 1, -1, 1, -1, 1, -1, 1]"
   ]
  },
  {
   "cell_type": "code",
   "execution_count": 120,
   "metadata": {},
   "outputs": [
    {
     "data": {
      "text/plain": [
       "10.0"
      ]
     },
     "execution_count": 120,
     "metadata": {},
     "output_type": "execute_result"
    }
   ],
   "source": [
    "compute_energy(lattice)"
   ]
  },
  {
   "cell_type": "markdown",
   "metadata": {},
   "source": [
    "## 7.1 - Histogram of energies per bond"
   ]
  },
  {
   "cell_type": "code",
   "execution_count": 149,
   "metadata": {},
   "outputs": [],
   "source": [
    "N = 16; nreps = 10**5"
   ]
  },
  {
   "cell_type": "markdown",
   "metadata": {},
   "source": [
    "The following command block takes a bit of time to run, depending on how large $N$ and $nreps$ are."
   ]
  },
  {
   "cell_type": "code",
   "execution_count": 150,
   "metadata": {},
   "outputs": [],
   "source": [
    "uniform_e_list = []\n",
    "\n",
    "for i in range(nreps):\n",
    "    uniform_e_list.append(ising_uniform_sampling(N)[-1])"
   ]
  },
  {
   "cell_type": "markdown",
   "metadata": {},
   "source": [
    "Plot the histogram:"
   ]
  },
  {
   "cell_type": "code",
   "execution_count": 202,
   "metadata": {
    "scrolled": true
   },
   "outputs": [
    {
     "data": {
      "image/png": "[encoded data removed]",
      "text/plain": [
       "<Figure size 720x288 with 1 Axes>"
      ]
     },
     "metadata": {},
     "output_type": "display_data"
    }
   ],
   "source": [
    "u_counts, u_bins, bars = plt.hist(uniform_e_list, density = True, bins = 50) # save the counts and bins for later\n",
    "plt.title('Histogram of energies per bond, uniform sampling')\n",
    "plt.xlabel(r'$e$')\n",
    "plt.savefig('ex7_histogram_e_uniform.pdf', bbox_inches = 'tight')\n",
    "plt.show()"
   ]
  },
  {
   "cell_type": "markdown",
   "metadata": {},
   "source": [
    "For N = 16: Gaussian between -0.2, 0.2?"
   ]
  },
  {
   "cell_type": "markdown",
   "metadata": {},
   "source": [
    "## 7.2 - Hit and miss method"
   ]
  },
  {
   "cell_type": "code",
   "execution_count": 85,
   "metadata": {},
   "outputs": [],
   "source": [
    "T1 = 10**5; T2 = 10**3; T3 = 10**2; T4 = 10\n",
    "temperatures = [T1, T2, T3, T4]"
   ]
  },
  {
   "cell_type": "markdown",
   "metadata": {},
   "source": [
    "Determine the fractions of saved hits. Number of runs can be changed below."
   ]
  },
  {
   "cell_type": "code",
   "execution_count": 121,
   "metadata": {},
   "outputs": [],
   "source": [
    "nreps = 10**3"
   ]
  },
  {
   "cell_type": "code",
   "execution_count": 122,
   "metadata": {},
   "outputs": [],
   "source": [
    "fracs_N = {4 : [], 8 : [], 12 : [], 16 : []}\n",
    "for key in fracs_N:\n",
    "    \n",
    "    fracs = []\n",
    "    for T in temperatures:\n",
    "        fracs_N[key].append(100*hit_and_miss_algorithm(key, T, nreps)[1]) # save as a percentage"
   ]
  },
  {
   "cell_type": "code",
   "execution_count": 123,
   "metadata": {},
   "outputs": [],
   "source": [
    "df = pd.DataFrame.from_dict(fracs_N, orient = 'index', columns = ['T1', 'T2', 'T3', 'T4'])"
   ]
  },
  {
   "cell_type": "code",
   "execution_count": 124,
   "metadata": {},
   "outputs": [
    {
     "data": {
      "text/html": [
       "<div>\n",
       "<style scoped>\n",
       "    .dataframe tbody tr th:only-of-type {\n",
       "        vertical-align: middle;\n",
       "    }\n",
       "\n",
       "    .dataframe tbody tr th {\n",
       "        vertical-align: top;\n",
       "    }\n",
       "\n",
       "    .dataframe thead th {\n",
       "        text-align: right;\n",
       "    }\n",
       "</style>\n",
       "<table border=\"1\" class=\"dataframe\">\n",
       "  <thead>\n",
       "    <tr style=\"text-align: right;\">\n",
       "      <th></th>\n",
       "      <th>T1</th>\n",
       "      <th>T2</th>\n",
       "      <th>T3</th>\n",
       "      <th>T4</th>\n",
       "    </tr>\n",
       "  </thead>\n",
       "  <tbody>\n",
       "    <tr>\n",
       "      <th>4</th>\n",
       "      <td>99.8</td>\n",
       "      <td>95.8</td>\n",
       "      <td>72.6</td>\n",
       "      <td>5.3</td>\n",
       "    </tr>\n",
       "    <tr>\n",
       "      <th>8</th>\n",
       "      <td>99.6</td>\n",
       "      <td>87.0</td>\n",
       "      <td>28.7</td>\n",
       "      <td>0.0</td>\n",
       "    </tr>\n",
       "    <tr>\n",
       "      <th>12</th>\n",
       "      <td>99.7</td>\n",
       "      <td>74.9</td>\n",
       "      <td>6.4</td>\n",
       "      <td>0.0</td>\n",
       "    </tr>\n",
       "    <tr>\n",
       "      <th>16</th>\n",
       "      <td>99.3</td>\n",
       "      <td>57.7</td>\n",
       "      <td>0.5</td>\n",
       "      <td>0.0</td>\n",
       "    </tr>\n",
       "  </tbody>\n",
       "</table>\n",
       "</div>"
      ],
      "text/plain": [
       "      T1    T2    T3   T4\n",
       "4   99.8  95.8  72.6  5.3\n",
       "8   99.6  87.0  28.7  0.0\n",
       "12  99.7  74.9   6.4  0.0\n",
       "16  99.3  57.7   0.5  0.0"
      ]
     },
     "execution_count": 124,
     "metadata": {},
     "output_type": "execute_result"
    }
   ],
   "source": [
    "df"
   ]
  },
  {
   "cell_type": "markdown",
   "metadata": {},
   "source": [
    "Export latex code to recreate this tabular"
   ]
  },
  {
   "cell_type": "code",
   "execution_count": 95,
   "metadata": {},
   "outputs": [],
   "source": [
    "#print(df.to_latex(index = True))  "
   ]
  },
  {
   "cell_type": "markdown",
   "metadata": {},
   "source": [
    "Recall that the critical temperatur for the Ising model is:"
   ]
  },
  {
   "cell_type": "code",
   "execution_count": 114,
   "metadata": {},
   "outputs": [
    {
     "name": "stdout",
     "output_type": "stream",
     "text": [
      "2.269185314213022\n"
     ]
    }
   ],
   "source": [
    "TC = 2/np.log(1 + np.sqrt(2))\n",
    "print(TC)"
   ]
  },
  {
   "cell_type": "markdown",
   "metadata": {},
   "source": [
    "## 7.3 Reweighting technique"
   ]
  },
  {
   "cell_type": "markdown",
   "metadata": {},
   "source": [
    "We will first compare a histogram"
   ]
  },
  {
   "cell_type": "markdown",
   "metadata": {},
   "source": [
    "Initialise: "
   ]
  },
  {
   "cell_type": "code",
   "execution_count": 237,
   "metadata": {},
   "outputs": [],
   "source": [
    "T = T2; N = 12; nreps = 10**5"
   ]
  },
  {
   "cell_type": "markdown",
   "metadata": {},
   "source": [
    "Get a histogram for this temperature, using the hit-and-miss method."
   ]
  },
  {
   "cell_type": "markdown",
   "metadata": {},
   "source": [
    "The following command block takes a bit of time."
   ]
  },
  {
   "cell_type": "code",
   "execution_count": 238,
   "metadata": {},
   "outputs": [],
   "source": [
    "e_list = []\n",
    "states, frac = hit_and_miss_algorithm(N, T, nreps)\n",
    "\n",
    "for state in states:\n",
    "    e_list.append(state[-1])"
   ]
  },
  {
   "cell_type": "code",
   "execution_count": 260,
   "metadata": {},
   "outputs": [
    {
     "data": {
      "image/png": "[encoded data removed]",
      "text/plain": [
       "<Figure size 720x288 with 1 Axes>"
      ]
     },
     "metadata": {},
     "output_type": "display_data"
    }
   ],
   "source": [
    "plt.hist(e_list, density = True, bins = 36)\n",
    "plt.title(r'Hit-and-miss, $N = 16$, $T = 10^3$')\n",
    "plt.xlabel(r'$e$')\n",
    "plt.savefig('ex7_histogram_hit_and_missT2.pdf', bbox_inches = 'tight')\n",
    "plt.show()"
   ]
  },
  {
   "cell_type": "markdown",
   "metadata": {},
   "source": [
    "Get the histogram via reweighting technique: first get the uniform histogram."
   ]
  },
  {
   "cell_type": "markdown",
   "metadata": {},
   "source": [
    "Get the uniform histogram: (the following command block takes a bit of time)"
   ]
  },
  {
   "cell_type": "code",
   "execution_count": 240,
   "metadata": {},
   "outputs": [],
   "source": [
    "uniform_e_list = []\n",
    "\n",
    "for i in range(nreps):\n",
    "    uniform_e_list.append(ising_uniform_sampling(N)[-1])"
   ]
  },
  {
   "cell_type": "code",
   "execution_count": 241,
   "metadata": {},
   "outputs": [],
   "source": [
    "weights = get_weights(uniform_e_list, T)"
   ]
  },
  {
   "cell_type": "code",
   "execution_count": 281,
   "metadata": {},
   "outputs": [
    {
     "data": {
      "image/png": "[encoded data removed]",
      "text/plain": [
       "<Figure size 720x288 with 1 Axes>"
      ]
     },
     "metadata": {},
     "output_type": "display_data"
    }
   ],
   "source": [
    "plt.hist(uniform_e_list, density = True, bins = 39, weights = weights)\n",
    "plt.title(r'Reweighting, $N = 16$, $T = 10^3$')\n",
    "plt.xlabel(r'$e$')\n",
    "plt.savefig('ex7_histogram_reweighting_demonstration.pdf', bbox_inches = 'tight')\n",
    "plt.show()"
   ]
  },
  {
   "cell_type": "markdown",
   "metadata": {},
   "source": [
    "This histogram agrees with what we obtain using the hit-and-miss method."
   ]
  },
  {
   "cell_type": "markdown",
   "metadata": {},
   "source": [
    "#### Generate histograms for various temperatures"
   ]
  },
  {
   "cell_type": "code",
   "execution_count": 262,
   "metadata": {},
   "outputs": [],
   "source": [
    "# Save the temperatures in a list:\n",
    "temperatures = [10**5, 10**3, 10, 2]"
   ]
  },
  {
   "cell_type": "code",
   "execution_count": 263,
   "metadata": {},
   "outputs": [],
   "source": [
    "weight_list = []\n",
    "for t in temperatures:\n",
    "    weight_list.append(get_weights(uniform_e_list, t))"
   ]
  },
  {
   "cell_type": "code",
   "execution_count": 285,
   "metadata": {},
   "outputs": [
    {
     "data": {
      "text/plain": [
       "0.8763896820426141"
      ]
     },
     "execution_count": 285,
     "metadata": {},
     "output_type": "execute_result"
    }
   ],
   "source": [
    "min(weight_list[-1])"
   ]
  },
  {
   "cell_type": "markdown",
   "metadata": {},
   "source": [
    "Make sure that the command block above, generating $\\texttt{uniform_e_list}$ has been runned."
   ]
  },
  {
   "cell_type": "markdown",
   "metadata": {},
   "source": [
    "Create four histograms using subplots."
   ]
  },
  {
   "cell_type": "code",
   "execution_count": 280,
   "metadata": {},
   "outputs": [
    {
     "data": {
      "image/png": "[encoded data removed]",
      "text/plain": [
       "<Figure size 720x576 with 4 Axes>"
      ]
     },
     "metadata": {},
     "output_type": "display_data"
    }
   ],
   "source": [
    "fig, axs = plt.subplots(2, 2, figsize = (10, 8))\n",
    "bins_list = [39, 39, 39, 39] # play around with number of bins to get optimal results\n",
    "for i in range(len(temperatures)):\n",
    "    \n",
    "    axs[i % 2, i // 2].hist(uniform_e_list, density = True, bins = bins_list[i], weights = weight_list[i])\n",
    "    axs[i % 2, i // 2].set_title(r'$T = $ %d' % temperatures[i], size = 18)\n",
    "\n",
    "for ax in axs.flat:\n",
    "    ax.set(xlabel=r'$e$')\n",
    "\n",
    "# Hide x labels and tick labels for top plots and y ticks for right plots.\n",
    "for ax in axs.flat:\n",
    "    ax.label_outer()\n",
    "plt.savefig('ex7_four_histograms_reweighting.pdf', bbox_inches = 'tight')\n",
    "plt.show()"
   ]
  },
  {
   "cell_type": "code",
   "execution_count": null,
   "metadata": {},
   "outputs": [],
   "source": []
  }
 ],
 "metadata": {
  "kernelspec": {
   "display_name": "Python 3",
   "language": "python",
   "name": "python3"
  },
  "language_info": {
   "codemirror_mode": {
    "name": "ipython",
    "version": 3
   },
   "file_extension": ".py",
   "mimetype": "text/x-python",
   "name": "python",
   "nbconvert_exporter": "python",
   "pygments_lexer": "ipython3",
   "version": "3.6.8"
  }
 },
 "nbformat": 4,
 "nbformat_minor": 2
}
