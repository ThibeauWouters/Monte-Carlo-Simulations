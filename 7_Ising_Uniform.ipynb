{
 "cells": [
  {
   "cell_type": "markdown",
   "metadata": {},
   "source": [
    "Author: Thibeau Wouters"
   ]
  },
  {
   "cell_type": "markdown",
   "metadata": {},
   "source": [
    "##### Imports:"
   ]
  },
  {
   "cell_type": "code",
   "execution_count": 1,
   "metadata": {},
   "outputs": [],
   "source": [
    "import numpy as np\n",
    "import random\n",
    "import matplotlib.pyplot as plt\n",
    "import scipy.integrate as integrate"
   ]
  },
  {
   "cell_type": "markdown",
   "metadata": {},
   "source": [
    "I will create a dataframe later on, so I'll import pandas."
   ]
  },
  {
   "cell_type": "code",
   "execution_count": 2,
   "metadata": {},
   "outputs": [],
   "source": [
    "import pandas as pd"
   ]
  },
  {
   "cell_type": "markdown",
   "metadata": {},
   "source": [
    "##### Configure matplotlib settings"
   ]
  },
  {
   "cell_type": "code",
   "execution_count": 3,
   "metadata": {},
   "outputs": [],
   "source": [
    "plt.style.use('ggplot')\n",
    "plt.rcParams.update(\n",
    "    {\"text.usetex\": True,\n",
    "     'font.serif': 'Modern Roman',\n",
    "     \"figure.figsize\": (10, 4),\n",
    "    \"axes.titlesize\" : 26,\n",
    "    \"axes.labelsize\" : 28,\n",
    "    \"lines.linewidth\": 3,\n",
    "    \"lines.markersize\" : 10,\n",
    "    \"xtick.labelsize\" : 24,\n",
    "    \"ytick.labelsize\" : 24})"
   ]
  },
  {
   "cell_type": "markdown",
   "metadata": {},
   "source": [
    "##### Functions:"
   ]
  },
  {
   "cell_type": "code",
   "execution_count": 4,
   "metadata": {},
   "outputs": [],
   "source": [
    "def random_spins(N):\n",
    "    '''Generate a N x N random lattice of spins, represented as a vector of length N^2, of random spins.'''\n",
    "    spins = [-1, 1]\n",
    "    \n",
    "    lattice = []\n",
    "    for i in range(N**2):\n",
    "        lattice.append(random.choice(spins))\n",
    "    \n",
    "    return lattice"
   ]
  },
  {
   "cell_type": "code",
   "execution_count": 5,
   "metadata": {},
   "outputs": [],
   "source": [
    "def compute_energy(lattice, N):\n",
    "    '''Given a lattice, computes the energy according to Hamiltonian for the Ising model.'''\n",
    "    E = 0\n",
    "    \n",
    "    for i in range(N**2):\n",
    "        s = lattice[i]\n",
    "        E += -s*lattice[(i + N + N**2)%N**2]\n",
    "        E += -s*lattice[(i -  N + N**2)%N**2]\n",
    "        \n",
    "        E += -s*lattice[(i + 1 + N**2)%N**2]\n",
    "        E += -s*lattice[(i -  1 + N**2)%N**2]\n",
    "    \n",
    "    # We count each contribution exactly twice, so divide by two to give the energy\n",
    "    return E/2"
   ]
  },
  {
   "cell_type": "code",
   "execution_count": 6,
   "metadata": {},
   "outputs": [],
   "source": [
    "def ising_uniform_sampling(N, output = 'e'):\n",
    "    '''Returns a lattice of uniformly generated spins and computes the energy/energy per bond of a lattice, using uniform sampling.\n",
    "        Which output depends on the optional variable: can be e or E.'''\n",
    "    \n",
    "    # Generate lattice\n",
    "    lattice = random_spins(N)\n",
    "    \n",
    "    # Compute e or E, depending on the variable output\n",
    "    if output == 'e':\n",
    "        e = compute_energy(lattice, N)/(2*N**2) \n",
    "        lattice.append(e)\n",
    "    \n",
    "    elif output == 'E':\n",
    "        E = compute_energy(lattice, N) \n",
    "        lattice.append(E)\n",
    "      \n",
    "    # Last element of 'lattice' is the energy.\n",
    "    return lattice"
   ]
  },
  {
   "cell_type": "code",
   "execution_count": 7,
   "metadata": {},
   "outputs": [],
   "source": [
    "def hit_and_miss(N, T):\n",
    "    '''Applies the hit and miss algorithm a single time. If a hit, returns the generated lattice, and its energy as final element.\n",
    "        Note: we take  k_b = 1'''\n",
    "    \n",
    "    # Define variables\n",
    "    beta = 1/T\n",
    "    E0 = -2*N**2\n",
    "    \n",
    "    # Generate lattice and compute its energy\n",
    "    lattice = random_spins(N)\n",
    "    E = compute_energy(lattice, N)\n",
    "    \n",
    "    # Check if this is a hit or a miss\n",
    "    r = random.uniform(0, 1)\n",
    "    if r <= np.exp(-beta*(E - E0)):\n",
    "        \n",
    "        # This is a hit\n",
    "        lattice.append(E/(2*N**2)) # compute energy per bond\n",
    "        return lattice \n",
    "   \n",
    "    else:\n",
    "        # This is a miss\n",
    "        return 'miss'"
   ]
  },
  {
   "cell_type": "code",
   "execution_count": 8,
   "metadata": {},
   "outputs": [],
   "source": [
    "def hit_and_miss_algorithm(N, T, nreps):\n",
    "    '''Runs the hit and miss nreps times. Returns the 'hits', i.e.  lattices and their energy.\n",
    "     Also returns the fraction of hits (useful for exercise 7.2)'''\n",
    "    lattice_list = []\n",
    "    \n",
    "    for i in range(nreps):\n",
    "        lattice = hit_and_miss(N, T) # result from hit_and_miss is lattice configuration + e\n",
    "    \n",
    "        if lattice != 'miss':\n",
    "            lattice_list.append(lattice)\n",
    "    \n",
    "    return (lattice_list, len(lattice_list)/nreps)"
   ]
  },
  {
   "cell_type": "code",
   "execution_count": 9,
   "metadata": {},
   "outputs": [],
   "source": [
    "def get_weights(energies, T):\n",
    "    '''Reweight the energies from a histogram of uniform sampling. See reweighting technique.'''\n",
    "    weights = []\n",
    "    for E in energies:\n",
    "        weights.append(np.exp(-E/T))\n",
    "        \n",
    "    return weights"
   ]
  },
  {
   "cell_type": "markdown",
   "metadata": {},
   "source": [
    "We quickly check that the function calculates energies correctly: check this for the ground state: should be $E_0 = -2N^2$."
   ]
  },
  {
   "cell_type": "code",
   "execution_count": 10,
   "metadata": {},
   "outputs": [
    {
     "data": {
      "text/plain": [
       "-18.0"
      ]
     },
     "execution_count": 10,
     "metadata": {},
     "output_type": "execute_result"
    }
   ],
   "source": [
    "ground_state = [1, 1, 1, 1, 1, 1, 1, 1, 1] # ground state for N = 3\n",
    "compute_energy(ground_state, 3)"
   ]
  },
  {
   "cell_type": "markdown",
   "metadata": {},
   "source": [
    "The correct result!"
   ]
  },
  {
   "cell_type": "markdown",
   "metadata": {},
   "source": [
    "# 7 - Ising Model: Uniform Sampling"
   ]
  },
  {
   "cell_type": "markdown",
   "metadata": {},
   "source": [
    "## 7.1 - Histogram of energies per bond, uniform sampling"
   ]
  },
  {
   "cell_type": "markdown",
   "metadata": {},
   "source": [
    "Conditions of our set up."
   ]
  },
  {
   "cell_type": "code",
   "execution_count": 11,
   "metadata": {},
   "outputs": [],
   "source": [
    "N = 16; nreps = 10**5"
   ]
  },
  {
   "cell_type": "markdown",
   "metadata": {},
   "source": [
    "The following command block takes a bit of time to run, depending on how large $N$ and $nreps$ are."
   ]
  },
  {
   "cell_type": "code",
   "execution_count": 12,
   "metadata": {},
   "outputs": [],
   "source": [
    "uniform_e_list = []\n",
    "\n",
    "for i in range(nreps):\n",
    "    uniform_e_list.append(ising_uniform_sampling(N)[-1]) # take [-1]: energy is added at the end"
   ]
  },
  {
   "cell_type": "markdown",
   "metadata": {},
   "source": [
    "Plot the histogram:"
   ]
  },
  {
   "cell_type": "code",
   "execution_count": 13,
   "metadata": {
    "scrolled": true
   },
   "outputs": [
    {
     "data": {
      "image/png": "[encoded data removed]",
      "text/plain": [
       "<Figure size 720x288 with 1 Axes>"
      ]
     },
     "metadata": {},
     "output_type": "display_data"
    }
   ],
   "source": [
    "plt.hist(uniform_e_list, density = True, bins = 51)\n",
    "plt.title('Energies per bond via uniform sampling, $N = 16$')\n",
    "plt.xlabel(r'$e$')\n",
    "## Uncomment the next line to save the plot\n",
    "#plt.savefig('ex7_histogram_e_uniform.pdf', bbox_inches = 'tight')\n",
    "plt.show()"
   ]
  },
  {
   "cell_type": "markdown",
   "metadata": {},
   "source": [
    "Seems to be a Gaussian centered at 0, and is zero outside of -0.2 and 0.2."
   ]
  },
  {
   "cell_type": "markdown",
   "metadata": {},
   "source": [
    "## 7.2 - Hit and miss method"
   ]
  },
  {
   "cell_type": "code",
   "execution_count": 14,
   "metadata": {},
   "outputs": [],
   "source": [
    "T1 = 10**5; T2 = 10**3; T3 = 10**2; T4 = 10\n",
    "temperatures = [T1, T2, T3, T4]"
   ]
  },
  {
   "cell_type": "markdown",
   "metadata": {},
   "source": [
    "Determine the fractions of saved hits. Number of runs can be changed below."
   ]
  },
  {
   "cell_type": "code",
   "execution_count": 15,
   "metadata": {},
   "outputs": [],
   "source": [
    "nreps = 10**3"
   ]
  },
  {
   "cell_type": "code",
   "execution_count": 16,
   "metadata": {},
   "outputs": [],
   "source": [
    "fracs_N = {4 : [], 8 : [], 12 : [], 16 : []}\n",
    "for key in fracs_N:\n",
    "    \n",
    "    fracs = []\n",
    "    for T in temperatures:\n",
    "        fracs_N[key].append(100*hit_and_miss_algorithm(key, T, nreps)[1]) # save as a percentage"
   ]
  },
  {
   "cell_type": "code",
   "execution_count": 17,
   "metadata": {},
   "outputs": [],
   "source": [
    "df = pd.DataFrame.from_dict(fracs_N, orient = 'index', columns = ['T1', 'T2', 'T3', 'T4'])"
   ]
  },
  {
   "cell_type": "code",
   "execution_count": 18,
   "metadata": {},
   "outputs": [
    {
     "data": {
      "text/html": [
       "<div>\n",
       "<style scoped>\n",
       "    .dataframe tbody tr th:only-of-type {\n",
       "        vertical-align: middle;\n",
       "    }\n",
       "\n",
       "    .dataframe tbody tr th {\n",
       "        vertical-align: top;\n",
       "    }\n",
       "\n",
       "    .dataframe thead th {\n",
       "        text-align: right;\n",
       "    }\n",
       "</style>\n",
       "<table border=\"1\" class=\"dataframe\">\n",
       "  <thead>\n",
       "    <tr style=\"text-align: right;\">\n",
       "      <th></th>\n",
       "      <th>T1</th>\n",
       "      <th>T2</th>\n",
       "      <th>T3</th>\n",
       "      <th>T4</th>\n",
       "    </tr>\n",
       "  </thead>\n",
       "  <tbody>\n",
       "    <tr>\n",
       "      <th>4</th>\n",
       "      <td>100.0</td>\n",
       "      <td>95.5</td>\n",
       "      <td>71.1</td>\n",
       "      <td>6.0</td>\n",
       "    </tr>\n",
       "    <tr>\n",
       "      <th>8</th>\n",
       "      <td>99.9</td>\n",
       "      <td>87.6</td>\n",
       "      <td>28.1</td>\n",
       "      <td>0.0</td>\n",
       "    </tr>\n",
       "    <tr>\n",
       "      <th>12</th>\n",
       "      <td>99.6</td>\n",
       "      <td>74.7</td>\n",
       "      <td>6.5</td>\n",
       "      <td>0.0</td>\n",
       "    </tr>\n",
       "    <tr>\n",
       "      <th>16</th>\n",
       "      <td>99.5</td>\n",
       "      <td>57.4</td>\n",
       "      <td>0.7</td>\n",
       "      <td>0.0</td>\n",
       "    </tr>\n",
       "  </tbody>\n",
       "</table>\n",
       "</div>"
      ],
      "text/plain": [
       "       T1    T2    T3   T4\n",
       "4   100.0  95.5  71.1  6.0\n",
       "8    99.9  87.6  28.1  0.0\n",
       "12   99.6  74.7   6.5  0.0\n",
       "16   99.5  57.4   0.7  0.0"
      ]
     },
     "execution_count": 18,
     "metadata": {},
     "output_type": "execute_result"
    }
   ],
   "source": [
    "df"
   ]
  },
  {
   "cell_type": "markdown",
   "metadata": {},
   "source": [
    "Uncomment the next line to export the LaTeX code to recreate this table in LaTeX."
   ]
  },
  {
   "cell_type": "code",
   "execution_count": 19,
   "metadata": {},
   "outputs": [],
   "source": [
    "#print(df.to_latex(index = True))  "
   ]
  },
  {
   "cell_type": "markdown",
   "metadata": {},
   "source": [
    "## 7.3 Reweighting technique"
   ]
  },
  {
   "cell_type": "markdown",
   "metadata": {},
   "source": [
    "To get the histogram via the reweighting technique, first get the uniform histogram. Use the total energy instead of the energies per bond."
   ]
  },
  {
   "cell_type": "code",
   "execution_count": 20,
   "metadata": {},
   "outputs": [],
   "source": [
    "N = 16\n",
    "#T1 = 10**5; T2 = 10**3; T3 = 10; T4 = 2\n",
    "#temperatures = [T1, T2, T3, T4]"
   ]
  },
  {
   "cell_type": "markdown",
   "metadata": {},
   "source": [
    "We first need to do uniform sampling of the total energies. The following code block takes a bit of time."
   ]
  },
  {
   "cell_type": "code",
   "execution_count": 21,
   "metadata": {},
   "outputs": [],
   "source": [
    "nreps = 10**5\n",
    "uniform_E_list = []\n",
    "\n",
    "for i in range(nreps):\n",
    "    uniform_E_list.append(ising_uniform_sampling(N, output = 'E')[-1]) # take [-1]: energy is added at the end"
   ]
  },
  {
   "cell_type": "code",
   "execution_count": 22,
   "metadata": {},
   "outputs": [
    {
     "data": {
      "image/png": "[encoded data removed]",
      "text/plain": [
       "<Figure size 720x288 with 1 Axes>"
      ]
     },
     "metadata": {},
     "output_type": "display_data"
    }
   ],
   "source": [
    "# Plot the uniform histogram\n",
    "plt.hist(uniform_E_list, density = True, bins = 100)\n",
    "\n",
    "# Make fancy, save and show\n",
    "plt.title('Total energy via uniform sampling, $N = 16$')\n",
    "plt.xlabel(r'$E$')\n",
    "plt.ylabel(r'$P(E)$')\n",
    "## Uncomment the next line to save the plot\n",
    "#plt.savefig('ex7_uniform_total_energy.pdf', bbox_inches = 'tight')\n",
    "plt.show()"
   ]
  },
  {
   "cell_type": "markdown",
   "metadata": {},
   "source": [
    "$\\textbf{Generate histograms for various temperatures}$"
   ]
  },
  {
   "cell_type": "markdown",
   "metadata": {},
   "source": [
    "Warning: in the previous subsection of this notebook, we already defined the variable 'temperatures', but they are different. "
   ]
  },
  {
   "cell_type": "code",
   "execution_count": 23,
   "metadata": {},
   "outputs": [],
   "source": [
    "# Save the temperatures in a list:\n",
    "temperatures = [10**5, 10**3, 10, 2]\n",
    "\n",
    "weight_list = []\n",
    "for t in temperatures:\n",
    "    weight_list.append(get_weights(uniform_E_list, t))"
   ]
  },
  {
   "cell_type": "markdown",
   "metadata": {},
   "source": [
    "Create four histograms using subplots."
   ]
  },
  {
   "cell_type": "code",
   "execution_count": 24,
   "metadata": {},
   "outputs": [
    {
     "data": {
      "image/png": "[encoded data removed]",
      "text/plain": [
       "<Figure size 1152x720 with 4 Axes>"
      ]
     },
     "metadata": {},
     "output_type": "display_data"
    }
   ],
   "source": [
    "fig, axs = plt.subplots(2, 2, figsize = (16, 10))\n",
    "bins_list = [100, 100, 100, 100] # play around with number of bins to get optimal results\n",
    "for i in range(len(temperatures)):\n",
    "    \n",
    "    axs[i % 2, i // 2].hist(uniform_E_list, density = True, bins = bins_list[i], weights = weight_list[i])\n",
    "    axs[i % 2, i // 2].set_title(r'$T = $ %d' % temperatures[i], size = 18)\n",
    "\n",
    "\n",
    "# Make fancy, save and show\n",
    "for ax in axs.flat:\n",
    "    ax.set(ylabel = r'$P_T(E)$', xlabel = r'$E$')\n",
    "    ax.label_outer()\n",
    "\n",
    "# Uncomment the next line to save the plot\n",
    "#plt.savefig('ex7_four_histograms_reweighting.pdf', bbox_inches = 'tight')\n",
    "plt.show()"
   ]
  }
 ],
 "metadata": {
  "kernelspec": {
   "display_name": "Python 3",
   "language": "python",
   "name": "python3"
  },
  "language_info": {
   "codemirror_mode": {
    "name": "ipython",
    "version": 3
   },
   "file_extension": ".py",
   "mimetype": "text/x-python",
   "name": "python",
   "nbconvert_exporter": "python",
   "pygments_lexer": "ipython3",
   "version": "3.6.8"
  }
 },
 "nbformat": 4,
 "nbformat_minor": 2
}
