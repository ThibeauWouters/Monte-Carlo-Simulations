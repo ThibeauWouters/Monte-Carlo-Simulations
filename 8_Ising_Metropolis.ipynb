{
 "cells": [
  {
   "cell_type": "markdown",
   "metadata": {},
   "source": [
    "# 8 - Metropolis Algorithm for the Ising Model"
   ]
  },
  {
   "cell_type": "markdown",
   "metadata": {},
   "source": [
    "##### Imports:"
   ]
  },
  {
   "cell_type": "code",
   "execution_count": 166,
   "metadata": {},
   "outputs": [],
   "source": [
    "import numpy as np\n",
    "import random\n",
    "import matplotlib.pyplot as plt\n",
    "import scipy.integrate as integrate\n",
    "import copy"
   ]
  },
  {
   "cell_type": "markdown",
   "metadata": {},
   "source": [
    "##### Functions:"
   ]
  },
  {
   "cell_type": "code",
   "execution_count": 2,
   "metadata": {},
   "outputs": [],
   "source": [
    "def random_spins(N):\n",
    "    '''Generate a N x N random lattice of spins, represented as a vector of length N^2.'''\n",
    "    spins = [-1, 1]\n",
    "    \n",
    "    lattice = []\n",
    "    for i in range(N**2):\n",
    "        lattice.append(random.choice(spins))\n",
    "    \n",
    "    return lattice"
   ]
  },
  {
   "cell_type": "code",
   "execution_count": 37,
   "metadata": {},
   "outputs": [],
   "source": [
    "def generate_exponentials(T):\n",
    "    delta_E = [4, 8]\n",
    "    exponentials = {}\n",
    "    for E in delta_E:\n",
    "        exponentials[str(E)] = np.exp(-E/T)\n",
    "    return exponentials"
   ]
  },
  {
   "cell_type": "code",
   "execution_count": 245,
   "metadata": {},
   "outputs": [],
   "source": [
    "def flip_spin(lattice, N, T):\n",
    "    \n",
    "    i = random.randint(0, N**2 - 1)\n",
    "    s = lattice[i]\n",
    "    \n",
    "    # Initial energy\n",
    "    E_i = 0\n",
    "    E_i += - s*lattice[(i + N + N**2)%N**2]\n",
    "    E_i += - s*lattice[(i -  N + N**2)%N**2]\n",
    "        \n",
    "    E_i += - s*lattice[(i + 1 + N**2)%N**2]\n",
    "    E_i += - s*lattice[(i -  1 + N**2)%N**2]\n",
    "    \n",
    "    \n",
    "    # Final energy:\n",
    "    E_f = - E_i\n",
    "    \n",
    "    delta_E = -2*E_i\n",
    "    \n",
    "    if delta_E <= 0:\n",
    "        lattice[i] = -s\n",
    "        return lattice\n",
    "    \n",
    "    r = random.uniform(0, 1)\n",
    "    key = str(delta_E)\n",
    "\n",
    "    if r <= exponentials[key]:\n",
    "        lattice[i] = -s\n",
    "        return lattice\n",
    "        \n",
    "    return lattice"
   ]
  },
  {
   "cell_type": "code",
   "execution_count": 249,
   "metadata": {},
   "outputs": [
    {
     "name": "stdout",
     "output_type": "stream",
     "text": [
      "{'4': 2.061153622438558e-09, '8': 4.248354255291589e-18}\n"
     ]
    }
   ],
   "source": [
    "test = generate_exponentials(0.2)\n",
    "print(test)"
   ]
  },
  {
   "cell_type": "code",
   "execution_count": 329,
   "metadata": {},
   "outputs": [],
   "source": [
    "def compute_magnetisation(lattice, N):\n",
    "    return abs(np.sum(lattice))/(N**2)"
   ]
  },
  {
   "cell_type": "code",
   "execution_count": 330,
   "metadata": {},
   "outputs": [],
   "source": [
    "def iteration_energy(N, T, nreps = 10**3):\n",
    "    lattice = random_spins(N)\n",
    "    exponentials = generate_exponentials(T)\n",
    "    \n",
    "    m_list = [compute_energy(lattice)]\n",
    "    \n",
    "    for i in range(nreps):\n",
    "        new_lattice = flip_spin(lattice, N, T)\n",
    "        m_list.append(compute_energy(lattice))\n",
    "        lattice = new_lattice\n",
    "        \n",
    "    return m_list"
   ]
  },
  {
   "cell_type": "code",
   "execution_count": 331,
   "metadata": {},
   "outputs": [],
   "source": [
    "def iteration_magnetisation(N, T, nreps = 10**3):\n",
    "    lattice = random_spins(N)\n",
    "    exponentials = generate_exponentials(T)\n",
    "\n",
    "    m_list = [compute_energy(lattice)]\n",
    "    \n",
    "    for i in range(nreps):\n",
    "        new_lattice = flip_spin(lattice, N, T)\n",
    "        m_list.append(compute_magnetisation(new_lattice, N))\n",
    "        lattice = new_lattice\n",
    "        \n",
    "    return m_list"
   ]
  },
  {
   "cell_type": "code",
   "execution_count": 332,
   "metadata": {},
   "outputs": [],
   "source": [
    "def compute_energy(lattice):\n",
    "    '''Given a lattice, computes the energy according to Hamiltonian for the Ising model.'''\n",
    "    E = 0\n",
    "    N = int(np.sqrt(len(lattice))) # obtain N, given the lattice\n",
    "    \n",
    "    for i in range(len(lattice)):\n",
    "        s = lattice[i]\n",
    "        E += -s*lattice[(i + N + N**2)%N**2]\n",
    "        E += -s*lattice[(i -  N + N**2)%N**2]\n",
    "        \n",
    "        E += -s*lattice[(i + 1 + N**2)%N**2]\n",
    "        E += -s*lattice[(i -  1 + N**2)%N**2]\n",
    "    return E/(4*N**2)"
   ]
  },
  {
   "cell_type": "markdown",
   "metadata": {},
   "source": [
    "## 8.1 - Magnetisation per spin"
   ]
  },
  {
   "cell_type": "markdown",
   "metadata": {},
   "source": [
    "Set-up of the problem:"
   ]
  },
  {
   "cell_type": "code",
   "execution_count": 333,
   "metadata": {},
   "outputs": [],
   "source": [
    "# Critical temperature\n",
    "TC = 2/np.log(1 + np.sqrt(2))"
   ]
  },
  {
   "cell_type": "code",
   "execution_count": 338,
   "metadata": {},
   "outputs": [
    {
     "data": {
      "image/png": "[encoded data removed]",
      "text/plain": [
       "<Figure size 720x576 with 1 Axes>"
      ]
     },
     "metadata": {
      "needs_background": "light"
     },
     "output_type": "display_data"
    }
   ],
   "source": [
    "# Calculate magnetisation\n",
    "T = 2; N = 50; \n",
    "nreps = 10000\n",
    "m_list = iteration_magnetisation(N, T, nreps)\n",
    "\n",
    "# Plot the result\n",
    "plt.subplots(figsize =(10, 8))\n",
    "plt.plot(list(range(nreps + 1)), m_list)\n",
    "t = np.arange(0, nreps, 0.01)\n",
    "m_exact = (1 - (np.sinh(2/T))**(-4))**(1/8)\n",
    "y = [m_exact for val in t]\n",
    "plt.plot(t, y, color = 'black', label = 'Exact')\n",
    "plt.show()"
   ]
  },
  {
   "cell_type": "code",
   "execution_count": 339,
   "metadata": {},
   "outputs": [
    {
     "data": {
      "image/png": "[encoded data removed]",
      "text/plain": [
       "<Figure size 720x576 with 1 Axes>"
      ]
     },
     "metadata": {
      "needs_background": "light"
     },
     "output_type": "display_data"
    }
   ],
   "source": [
    "# Calculate magnetisation\n",
    "T = 2; N = 50; \n",
    "nreps = 10000\n",
    "m_list = iteration_energy(N, T, nreps)\n",
    "\n",
    "# Plot the result\n",
    "plt.subplots(figsize =(10, 8))\n",
    "plt.plot(list(range(nreps + 1)), m_list)\n",
    "\n",
    "plt.plot(t, y, color = 'black', label = 'Exact')\n",
    "plt.show()"
   ]
  },
  {
   "cell_type": "markdown",
   "metadata": {},
   "source": [
    "### Test place"
   ]
  },
  {
   "cell_type": "code",
   "execution_count": 187,
   "metadata": {},
   "outputs": [],
   "source": [
    "ground_state = [1, 1, 1, 1, 1, 1, 1, 1, 1] # ground state for N = 3"
   ]
  },
  {
   "cell_type": "code",
   "execution_count": 188,
   "metadata": {},
   "outputs": [
    {
     "data": {
      "text/plain": [
       "1.0"
      ]
     },
     "execution_count": 188,
     "metadata": {},
     "output_type": "execute_result"
    }
   ],
   "source": [
    "compute_magnetisation(ground_state, 3)"
   ]
  },
  {
   "cell_type": "code",
   "execution_count": 272,
   "metadata": {},
   "outputs": [],
   "source": [
    "state = [1, -1, 1, -1, 1, -1, 1, -1, 1]"
   ]
  },
  {
   "cell_type": "code",
   "execution_count": 302,
   "metadata": {},
   "outputs": [
    {
     "name": "stdout",
     "output_type": "stream",
     "text": [
      "[1, 1, 1, 1, 1, 1, 1, 1, 1]\n",
      "[1, 1, 1, 1, 1, 1, 1, 1, 1]\n"
     ]
    }
   ],
   "source": [
    "result = flip_spin(state, 3, 2)\n",
    "print(state)\n",
    "print(result)"
   ]
  },
  {
   "cell_type": "code",
   "execution_count": null,
   "metadata": {},
   "outputs": [],
   "source": []
  },
  {
   "cell_type": "code",
   "execution_count": null,
   "metadata": {},
   "outputs": [],
   "source": []
  }
 ],
 "metadata": {
  "kernelspec": {
   "display_name": "Python 3",
   "language": "python",
   "name": "python3"
  },
  "language_info": {
   "codemirror_mode": {
    "name": "ipython",
    "version": 3
   },
   "file_extension": ".py",
   "mimetype": "text/x-python",
   "name": "python",
   "nbconvert_exporter": "python",
   "pygments_lexer": "ipython3",
   "version": "3.6.8"
  }
 },
 "nbformat": 4,
 "nbformat_minor": 2
}
